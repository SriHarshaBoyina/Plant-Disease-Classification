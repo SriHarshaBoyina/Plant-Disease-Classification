{
  "metadata": {
    "kernelspec": {
      "language": "python",
      "display_name": "Python 3",
      "name": "python3"
    },
    "language_info": {
      "name": "python",
      "version": "3.7.6",
      "mimetype": "text/x-python",
      "codemirror_mode": {
        "name": "ipython",
        "version": 3
      },
      "pygments_lexer": "ipython3",
      "nbconvert_exporter": "python",
      "file_extension": ".py"
    },
    "kaggle": {
      "accelerator": "gpu",
      "dataSources": [
        {
          "sourceId": 182633,
          "sourceType": "datasetVersion",
          "datasetId": 78313
        }
      ],
      "dockerImageVersionId": 30039,
      "isInternetEnabled": true,
      "language": "python",
      "sourceType": "notebook",
      "isGpuEnabled": true
    },
    "colab": {
      "name": "Plant Disease Classification - ResNet- 99.2 4e6623",
      "provenance": []
    }
  },
  "nbformat_minor": 0,
  "nbformat": 4,
  "cells": [
    {
      "source": [
        "# IMPORTANT: RUN THIS CELL IN ORDER TO IMPORT YOUR KAGGLE DATA SOURCES,\n",
        "# THEN FEEL FREE TO DELETE THIS CELL.\n",
        "# NOTE: THIS NOTEBOOK ENVIRONMENT DIFFERS FROM KAGGLE'S PYTHON\n",
        "# ENVIRONMENT SO THERE MAY BE MISSING LIBRARIES USED BY YOUR\n",
        "# NOTEBOOK.\n",
        "import kagglehub\n",
        "vipoooool_new_plant_diseases_dataset_path = kagglehub.dataset_download('vipoooool/new-plant-diseases-dataset')\n",
        "\n",
        "print('Data source import complete.')\n"
      ],
      "metadata": {
        "id": "gWA6WPbZO_3L"
      },
      "cell_type": "code",
      "outputs": [],
      "execution_count": null
    },
    {
      "cell_type": "code",
      "source": [
        "!pip install torchsummary"
      ],
      "metadata": {
        "execution": {
          "iopub.status.busy": "2024-11-18T18:30:06.336985Z",
          "iopub.execute_input": "2024-11-18T18:30:06.33735Z",
          "iopub.status.idle": "2024-11-18T18:30:13.616521Z",
          "shell.execute_reply.started": "2024-11-18T18:30:06.337319Z",
          "shell.execute_reply": "2024-11-18T18:30:13.615766Z"
        },
        "trusted": true,
        "id": "LexLndo3O_3O"
      },
      "execution_count": null,
      "outputs": []
    },
    {
      "cell_type": "code",
      "source": [
        "import os                       # for working with files\n",
        "import numpy as np              # for numerical computationss\n",
        "import pandas as pd             # for working with dataframes\n",
        "import torch                    # Pytorch module\n",
        "import matplotlib.pyplot as plt # for plotting informations on graph and images using tensors\n",
        "import torch.nn as nn           # for creating  neural networks\n",
        "from torch.utils.data import DataLoader # for dataloaders\n",
        "from PIL import Image           # for checking images\n",
        "import torch.nn.functional as F # for functions for calculating loss\n",
        "import torchvision.transforms as transforms   # for transforming images into tensors\n",
        "from torchvision.utils import make_grid       # for data checking\n",
        "from torchvision.datasets import ImageFolder  # for working with classes and images\n",
        "from torchsummary import summary              # for getting the summary of our model\n",
        "\n",
        "%matplotlib inline"
      ],
      "metadata": {
        "_uuid": "8f2839f25d086af736a60e9eeb907d3b93b6e0e5",
        "_cell_guid": "b1076dfc-b9ad-4769-8c92-a6c4dae69d19",
        "execution": {
          "iopub.status.busy": "2024-11-18T18:30:13.619039Z",
          "iopub.execute_input": "2024-11-18T18:30:13.619447Z",
          "iopub.status.idle": "2024-11-18T18:30:15.242552Z",
          "shell.execute_reply.started": "2024-11-18T18:30:13.619407Z",
          "shell.execute_reply": "2024-11-18T18:30:15.241865Z"
        },
        "trusted": true,
        "id": "gO_Xks4CO_3O"
      },
      "execution_count": null,
      "outputs": []
    },
    {
      "cell_type": "code",
      "source": [
        "data_dir = \"../input/new-plant-diseases-dataset/New Plant Diseases Dataset(Augmented)/New Plant Diseases Dataset(Augmented)\"\n",
        "train_dir = data_dir + \"/train\"\n",
        "valid_dir = data_dir + \"/valid\"\n",
        "diseases = os.listdir(train_dir)"
      ],
      "metadata": {
        "execution": {
          "iopub.status.busy": "2024-11-18T18:30:15.243533Z",
          "iopub.execute_input": "2024-11-18T18:30:15.243739Z",
          "iopub.status.idle": "2024-11-18T18:30:15.261669Z",
          "shell.execute_reply.started": "2024-11-18T18:30:15.243718Z",
          "shell.execute_reply": "2024-11-18T18:30:15.261043Z"
        },
        "trusted": true,
        "id": "P14WO7HiO_3P"
      },
      "execution_count": null,
      "outputs": []
    },
    {
      "cell_type": "code",
      "source": [
        "# printing the disease names\n",
        "print(diseases)"
      ],
      "metadata": {
        "execution": {
          "iopub.status.busy": "2024-11-18T18:30:15.262689Z",
          "iopub.execute_input": "2024-11-18T18:30:15.262893Z",
          "iopub.status.idle": "2024-11-18T18:30:15.266513Z",
          "shell.execute_reply.started": "2024-11-18T18:30:15.262873Z",
          "shell.execute_reply": "2024-11-18T18:30:15.265783Z"
        },
        "trusted": true,
        "id": "gM2vTF6UO_3P"
      },
      "execution_count": null,
      "outputs": []
    },
    {
      "cell_type": "code",
      "source": [
        "print(\"Total disease classes are: {}\".format(len(diseases)))"
      ],
      "metadata": {
        "execution": {
          "iopub.status.busy": "2024-11-18T18:30:15.269775Z",
          "iopub.execute_input": "2024-11-18T18:30:15.270113Z",
          "iopub.status.idle": "2024-11-18T18:30:15.276602Z",
          "shell.execute_reply.started": "2024-11-18T18:30:15.270077Z",
          "shell.execute_reply": "2024-11-18T18:30:15.275823Z"
        },
        "trusted": true,
        "id": "MJCAXOKgO_3P"
      },
      "execution_count": null,
      "outputs": []
    },
    {
      "cell_type": "code",
      "source": [
        "plants = []\n",
        "NumberOfDiseases = 0\n",
        "for plant in diseases:\n",
        "    if plant.split('___')[0] not in plants:\n",
        "        plants.append(plant.split('___')[0])\n",
        "    if plant.split('___')[1] != 'healthy':\n",
        "        NumberOfDiseases += 1"
      ],
      "metadata": {
        "execution": {
          "iopub.status.busy": "2024-11-18T18:30:15.279404Z",
          "iopub.execute_input": "2024-11-18T18:30:15.279704Z",
          "iopub.status.idle": "2024-11-18T18:30:15.284989Z",
          "shell.execute_reply.started": "2024-11-18T18:30:15.279666Z",
          "shell.execute_reply": "2024-11-18T18:30:15.284383Z"
        },
        "trusted": true,
        "id": "d2Vx9L3eO_3Q"
      },
      "execution_count": null,
      "outputs": []
    },
    {
      "cell_type": "code",
      "source": [
        "# unique plants in the dataset\n",
        "print(f\"Unique Plants are: \\n{plants}\")"
      ],
      "metadata": {
        "execution": {
          "iopub.status.busy": "2024-11-18T18:30:15.286034Z",
          "iopub.execute_input": "2024-11-18T18:30:15.286291Z",
          "iopub.status.idle": "2024-11-18T18:30:15.295343Z",
          "shell.execute_reply.started": "2024-11-18T18:30:15.286265Z",
          "shell.execute_reply": "2024-11-18T18:30:15.294491Z"
        },
        "trusted": true,
        "id": "JwHvuEbaO_3Q"
      },
      "execution_count": null,
      "outputs": []
    },
    {
      "cell_type": "code",
      "source": [
        "# number of unique plants\n",
        "print(\"Number of plants: {}\".format(len(plants)))"
      ],
      "metadata": {
        "execution": {
          "iopub.status.busy": "2024-11-18T18:30:15.296589Z",
          "iopub.execute_input": "2024-11-18T18:30:15.296909Z",
          "iopub.status.idle": "2024-11-18T18:30:15.3046Z",
          "shell.execute_reply.started": "2024-11-18T18:30:15.296877Z",
          "shell.execute_reply": "2024-11-18T18:30:15.303741Z"
        },
        "trusted": true,
        "id": "zRXT9jkYO_3Q"
      },
      "execution_count": null,
      "outputs": []
    },
    {
      "cell_type": "code",
      "source": [
        "# number of unique diseases\n",
        "print(\"Number of diseases: {}\".format(NumberOfDiseases))"
      ],
      "metadata": {
        "execution": {
          "iopub.status.busy": "2024-11-18T18:30:15.305816Z",
          "iopub.execute_input": "2024-11-18T18:30:15.306161Z",
          "iopub.status.idle": "2024-11-18T18:30:15.314204Z",
          "shell.execute_reply.started": "2024-11-18T18:30:15.306127Z",
          "shell.execute_reply": "2024-11-18T18:30:15.313576Z"
        },
        "trusted": true,
        "id": "r4nbVM_BO_3Q"
      },
      "execution_count": null,
      "outputs": []
    },
    {
      "cell_type": "code",
      "source": [
        "# Number of images for each disease\n",
        "nums = {}\n",
        "for disease in diseases:\n",
        "    nums[disease] = len(os.listdir(train_dir + '/' + disease))\n",
        "\n",
        "# converting the nums dictionary to pandas dataframe passing index as plant name and number of images as column\n",
        "\n",
        "img_per_class = pd.DataFrame(nums.values(), index=nums.keys(), columns=[\"no. of images\"])\n",
        "img_per_class"
      ],
      "metadata": {
        "execution": {
          "iopub.status.busy": "2024-11-18T18:30:15.315465Z",
          "iopub.execute_input": "2024-11-18T18:30:15.315923Z",
          "iopub.status.idle": "2024-11-18T18:30:18.921166Z",
          "shell.execute_reply.started": "2024-11-18T18:30:15.315888Z",
          "shell.execute_reply": "2024-11-18T18:30:18.920417Z"
        },
        "trusted": true,
        "id": "71PVDPMWO_3Q"
      },
      "execution_count": null,
      "outputs": []
    },
    {
      "cell_type": "code",
      "source": [
        "# plotting number of images available for each disease\n",
        "index = [n for n in range(38)]\n",
        "plt.figure(figsize=(20, 5))\n",
        "plt.bar(index, [n for n in nums.values()], width=0.3)\n",
        "plt.xlabel('Plants/Diseases', fontsize=10)\n",
        "plt.ylabel('No of images available', fontsize=10)\n",
        "plt.xticks(index, diseases, fontsize=5, rotation=90)\n",
        "plt.title('Images per each class of plant disease')"
      ],
      "metadata": {
        "execution": {
          "iopub.status.busy": "2024-11-18T18:30:18.922151Z",
          "iopub.execute_input": "2024-11-18T18:30:18.922379Z",
          "iopub.status.idle": "2024-11-18T18:30:19.293701Z",
          "shell.execute_reply.started": "2024-11-18T18:30:18.922351Z",
          "shell.execute_reply": "2024-11-18T18:30:19.292927Z"
        },
        "trusted": true,
        "id": "JAcS10SOO_3R"
      },
      "execution_count": null,
      "outputs": []
    },
    {
      "cell_type": "code",
      "source": [
        "n_train = 0\n",
        "for value in nums.values():\n",
        "    n_train += value\n",
        "print(f\"There are {n_train} images for training\")"
      ],
      "metadata": {
        "execution": {
          "iopub.status.busy": "2024-11-18T18:30:19.294957Z",
          "iopub.execute_input": "2024-11-18T18:30:19.295456Z",
          "iopub.status.idle": "2024-11-18T18:30:19.300063Z",
          "shell.execute_reply.started": "2024-11-18T18:30:19.295425Z",
          "shell.execute_reply": "2024-11-18T18:30:19.299209Z"
        },
        "trusted": true,
        "id": "wfXJ4bFmO_3R"
      },
      "execution_count": null,
      "outputs": []
    },
    {
      "cell_type": "code",
      "source": [
        "# datasets for validation and training\n",
        "train = ImageFolder(train_dir, transform=transforms.ToTensor())\n",
        "valid = ImageFolder(valid_dir, transform=transforms.ToTensor())"
      ],
      "metadata": {
        "execution": {
          "iopub.status.busy": "2024-11-18T18:30:19.301455Z",
          "iopub.execute_input": "2024-11-18T18:30:19.301789Z",
          "iopub.status.idle": "2024-11-18T18:31:37.792179Z",
          "shell.execute_reply.started": "2024-11-18T18:30:19.301753Z",
          "shell.execute_reply": "2024-11-18T18:31:37.791346Z"
        },
        "trusted": true,
        "id": "Np_AxL3IO_3R"
      },
      "execution_count": null,
      "outputs": []
    },
    {
      "cell_type": "code",
      "source": [
        "img, label = train[0]\n",
        "print(img.shape, label)"
      ],
      "metadata": {
        "execution": {
          "iopub.status.busy": "2024-11-18T18:31:37.793427Z",
          "iopub.execute_input": "2024-11-18T18:31:37.793673Z",
          "iopub.status.idle": "2024-11-18T18:31:37.863473Z",
          "shell.execute_reply.started": "2024-11-18T18:31:37.793649Z",
          "shell.execute_reply": "2024-11-18T18:31:37.86247Z"
        },
        "trusted": true,
        "id": "VJLba48xO_3S"
      },
      "execution_count": null,
      "outputs": []
    },
    {
      "cell_type": "code",
      "source": [
        "# total number of classes in train set\n",
        "len(train.classes)"
      ],
      "metadata": {
        "execution": {
          "iopub.status.busy": "2024-11-18T18:31:37.864741Z",
          "iopub.execute_input": "2024-11-18T18:31:37.865129Z",
          "iopub.status.idle": "2024-11-18T18:31:37.870519Z",
          "shell.execute_reply.started": "2024-11-18T18:31:37.865088Z",
          "shell.execute_reply": "2024-11-18T18:31:37.869568Z"
        },
        "trusted": true,
        "id": "DMGqQUEzO_3S"
      },
      "execution_count": null,
      "outputs": []
    },
    {
      "cell_type": "code",
      "source": [
        "# for checking some images from training dataset\n",
        "def show_image(image, label):\n",
        "    print(\"Label :\" + train.classes[label] + \"(\" + str(label) + \")\")\n",
        "    plt.imshow(image.permute(1, 2, 0))"
      ],
      "metadata": {
        "execution": {
          "iopub.status.busy": "2024-11-18T18:31:37.871714Z",
          "iopub.execute_input": "2024-11-18T18:31:37.871992Z",
          "iopub.status.idle": "2024-11-18T18:31:37.879437Z",
          "shell.execute_reply.started": "2024-11-18T18:31:37.871965Z",
          "shell.execute_reply": "2024-11-18T18:31:37.878759Z"
        },
        "trusted": true,
        "id": "PuvnAdsZO_3S"
      },
      "execution_count": null,
      "outputs": []
    },
    {
      "cell_type": "code",
      "source": [
        "show_image(*train[0])"
      ],
      "metadata": {
        "execution": {
          "iopub.status.busy": "2024-11-18T18:31:37.880729Z",
          "iopub.execute_input": "2024-11-18T18:31:37.881068Z",
          "iopub.status.idle": "2024-11-18T18:31:38.038171Z",
          "shell.execute_reply.started": "2024-11-18T18:31:37.881033Z",
          "shell.execute_reply": "2024-11-18T18:31:38.03749Z"
        },
        "trusted": true,
        "id": "5MWXibMbO_3S"
      },
      "execution_count": null,
      "outputs": []
    },
    {
      "cell_type": "code",
      "source": [
        "show_image(*train[60000])"
      ],
      "metadata": {
        "execution": {
          "iopub.status.busy": "2024-11-18T18:31:38.039454Z",
          "iopub.execute_input": "2024-11-18T18:31:38.039686Z",
          "iopub.status.idle": "2024-11-18T18:31:38.251795Z",
          "shell.execute_reply.started": "2024-11-18T18:31:38.039664Z",
          "shell.execute_reply": "2024-11-18T18:31:38.250941Z"
        },
        "trusted": true,
        "id": "fXw3hL1oO_3S"
      },
      "execution_count": null,
      "outputs": []
    },
    {
      "cell_type": "code",
      "source": [
        "show_image(*train[30000])"
      ],
      "metadata": {
        "execution": {
          "iopub.status.busy": "2024-11-18T18:31:38.253331Z",
          "iopub.execute_input": "2024-11-18T18:31:38.253689Z",
          "iopub.status.idle": "2024-11-18T18:31:38.401535Z",
          "shell.execute_reply.started": "2024-11-18T18:31:38.253652Z",
          "shell.execute_reply": "2024-11-18T18:31:38.400723Z"
        },
        "trusted": true,
        "id": "mgGr19e3O_3S"
      },
      "execution_count": null,
      "outputs": []
    },
    {
      "cell_type": "code",
      "source": [
        "# Setting the seed value\n",
        "random_seed = 42\n",
        "torch.manual_seed(random_seed)"
      ],
      "metadata": {
        "execution": {
          "iopub.status.busy": "2024-11-18T18:31:38.402929Z",
          "iopub.execute_input": "2024-11-18T18:31:38.403269Z",
          "iopub.status.idle": "2024-11-18T18:31:38.411939Z",
          "shell.execute_reply.started": "2024-11-18T18:31:38.403237Z",
          "shell.execute_reply": "2024-11-18T18:31:38.411098Z"
        },
        "trusted": true,
        "id": "5W3h_ZPXO_3S"
      },
      "execution_count": null,
      "outputs": []
    },
    {
      "cell_type": "code",
      "source": [
        "# setting the batch size\n",
        "batch_size = 32"
      ],
      "metadata": {
        "execution": {
          "iopub.status.busy": "2024-11-18T18:31:38.413298Z",
          "iopub.execute_input": "2024-11-18T18:31:38.413572Z",
          "iopub.status.idle": "2024-11-18T18:31:38.417164Z",
          "shell.execute_reply.started": "2024-11-18T18:31:38.413548Z",
          "shell.execute_reply": "2024-11-18T18:31:38.416404Z"
        },
        "trusted": true,
        "id": "ggg5kMQ0O_3S"
      },
      "execution_count": null,
      "outputs": []
    },
    {
      "cell_type": "code",
      "source": [
        "# DataLoaders for training and validation\n",
        "train_dl = DataLoader(train, batch_size, shuffle=True, num_workers=2, pin_memory=True)\n",
        "valid_dl = DataLoader(valid, batch_size, num_workers=2, pin_memory=True)"
      ],
      "metadata": {
        "execution": {
          "iopub.status.busy": "2024-11-18T18:31:38.418461Z",
          "iopub.execute_input": "2024-11-18T18:31:38.418713Z",
          "iopub.status.idle": "2024-11-18T18:31:38.429437Z",
          "shell.execute_reply.started": "2024-11-18T18:31:38.418681Z",
          "shell.execute_reply": "2024-11-18T18:31:38.428654Z"
        },
        "trusted": true,
        "id": "r1hctmpDO_3S"
      },
      "execution_count": null,
      "outputs": []
    },
    {
      "cell_type": "code",
      "source": [
        "# helper function to show a batch of training instances\n",
        "def show_batch(data):\n",
        "    for images, labels in data:\n",
        "        fig, ax = plt.subplots(figsize=(30, 30))\n",
        "        ax.set_xticks([]); ax.set_yticks([])\n",
        "        ax.imshow(make_grid(images, nrow=8).permute(1, 2, 0))\n",
        "        break"
      ],
      "metadata": {
        "execution": {
          "iopub.status.busy": "2024-11-18T18:31:38.430641Z",
          "iopub.execute_input": "2024-11-18T18:31:38.431047Z",
          "iopub.status.idle": "2024-11-18T18:31:38.441579Z",
          "shell.execute_reply.started": "2024-11-18T18:31:38.430988Z",
          "shell.execute_reply": "2024-11-18T18:31:38.440821Z"
        },
        "trusted": true,
        "id": "2GmDad8VO_3S"
      },
      "execution_count": null,
      "outputs": []
    },
    {
      "cell_type": "code",
      "source": [
        "# Images for first batch of training\n",
        "show_batch(train_dl)"
      ],
      "metadata": {
        "execution": {
          "iopub.status.busy": "2024-11-18T18:31:38.442593Z",
          "iopub.execute_input": "2024-11-18T18:31:38.442833Z",
          "iopub.status.idle": "2024-11-18T18:31:45.481536Z",
          "shell.execute_reply.started": "2024-11-18T18:31:38.442794Z",
          "shell.execute_reply": "2024-11-18T18:31:45.48074Z"
        },
        "trusted": true,
        "id": "v9vuviZJO_3T"
      },
      "execution_count": null,
      "outputs": []
    },
    {
      "cell_type": "code",
      "source": [
        "# for moving data into GPU (if available)\n",
        "def get_default_device():\n",
        "    \"\"\"Pick GPU if available, else CPU\"\"\"\n",
        "    if torch.cuda.is_available:\n",
        "        return torch.device(\"cuda\")\n",
        "    else:\n",
        "        return torch.device(\"cpu\")\n",
        "\n",
        "# for moving data to device (CPU or GPU)\n",
        "def to_device(data, device):\n",
        "    \"\"\"Move tensor(s) to chosen device\"\"\"\n",
        "    if isinstance(data, (list,tuple)):\n",
        "        return [to_device(x, device) for x in data]\n",
        "    return data.to(device, non_blocking=True)\n",
        "\n",
        "# for loading in the device (GPU if available else CPU)\n",
        "class DeviceDataLoader():\n",
        "    \"\"\"Wrap a dataloader to move data to a device\"\"\"\n",
        "    def __init__(self, dl, device):\n",
        "        self.dl = dl\n",
        "        self.device = device\n",
        "\n",
        "    def __iter__(self):\n",
        "        \"\"\"Yield a batch of data after moving it to device\"\"\"\n",
        "        for b in self.dl:\n",
        "            yield to_device(b, self.device)\n",
        "\n",
        "    def __len__(self):\n",
        "        \"\"\"Number of batches\"\"\"\n",
        "        return len(self.dl)"
      ],
      "metadata": {
        "execution": {
          "iopub.status.busy": "2024-11-18T18:31:45.483774Z",
          "iopub.execute_input": "2024-11-18T18:31:45.484316Z",
          "iopub.status.idle": "2024-11-18T18:31:45.493652Z",
          "shell.execute_reply.started": "2024-11-18T18:31:45.484258Z",
          "shell.execute_reply": "2024-11-18T18:31:45.49285Z"
        },
        "trusted": true,
        "id": "qQoLfKmwO_3T"
      },
      "execution_count": null,
      "outputs": []
    },
    {
      "cell_type": "code",
      "source": [
        "device = get_default_device()\n",
        "device"
      ],
      "metadata": {
        "execution": {
          "iopub.status.busy": "2024-11-18T18:31:45.494737Z",
          "iopub.execute_input": "2024-11-18T18:31:45.494963Z",
          "iopub.status.idle": "2024-11-18T18:31:45.508201Z",
          "shell.execute_reply.started": "2024-11-18T18:31:45.494941Z",
          "shell.execute_reply": "2024-11-18T18:31:45.507565Z"
        },
        "trusted": true,
        "id": "bPDuu0JPO_3T"
      },
      "execution_count": null,
      "outputs": []
    },
    {
      "cell_type": "code",
      "source": [
        "# Moving data into GPU\n",
        "train_dl = DeviceDataLoader(train_dl, device)\n",
        "valid_dl = DeviceDataLoader(valid_dl, device)"
      ],
      "metadata": {
        "execution": {
          "iopub.status.busy": "2024-11-18T18:31:45.509604Z",
          "iopub.execute_input": "2024-11-18T18:31:45.509826Z",
          "iopub.status.idle": "2024-11-18T18:31:45.51837Z",
          "shell.execute_reply.started": "2024-11-18T18:31:45.509804Z",
          "shell.execute_reply": "2024-11-18T18:31:45.517439Z"
        },
        "trusted": true,
        "id": "nyqPmaCSO_3T"
      },
      "execution_count": null,
      "outputs": []
    },
    {
      "cell_type": "code",
      "source": [
        "def accuracy(outputs, labels):\n",
        "    _, preds = torch.max(outputs, dim=1)  # Get the index of the max log-probability\n",
        "    return torch.tensor(torch.sum(preds == labels).item() / len(preds))\n",
        "\n",
        "class ImageClassificationBase(nn.Module):\n",
        "\n",
        "    def training_step(self, batch):\n",
        "        images, labels = batch\n",
        "        out = self(images)  # Generate predictions\n",
        "        loss = F.cross_entropy(out, labels)  # Calculate loss\n",
        "        return loss  # Return loss as a tensor, not a dictionary\n",
        "\n",
        "    def validation_step(self, batch):\n",
        "        images, labels = batch\n",
        "        out = self(images)                   # Generate predictions\n",
        "        loss = F.cross_entropy(out, labels)  # Calculate loss\n",
        "        acc = accuracy(out, labels)          # Calculate accuracy\n",
        "        return {\"val_loss\": loss.detach(), \"val_accuracy\": acc}\n",
        "\n",
        "    def validation_epoch_end(self, outputs):\n",
        "        batch_losses = [x[\"val_loss\"] for x in outputs]\n",
        "        batch_accuracies = [x[\"val_accuracy\"] for x in outputs]\n",
        "        epoch_loss = torch.stack(batch_losses).mean()       # Combine loss\n",
        "        epoch_accuracy = torch.stack(batch_accuracies).mean()\n",
        "        return {\"val_loss\": epoch_loss, \"val_accuracy\": epoch_accuracy} # Combine accuracies\n",
        "\n",
        "    def training_epoch_end(self, outputs):\n",
        "        batch_losses = [x[\"train_loss\"] for x in outputs]\n",
        "        batch_accuracies = [x[\"train_accuracy\"] for x in outputs]\n",
        "        epoch_loss = torch.stack(batch_losses).mean()       # Combine loss\n",
        "        epoch_accuracy = torch.stack(batch_accuracies).mean()\n",
        "        return {\"train_loss\": epoch_loss, \"train_accuracy\": epoch_accuracy} # Combine accuracies\n",
        "\n",
        "    def epoch_end(self, epoch, result):\n",
        "        print(\"Epoch [{}], last_lr: {:.5f}, train_loss: {:.4f}, train_acc: {:.4f}, val_loss: {:.4f}, val_acc: {:.4f}\".format(\n",
        "            epoch, result['lrs'][-1], result['train_loss'], result['train_accuracy'], result['val_loss'], result['val_accuracy']))\n"
      ],
      "metadata": {
        "execution": {
          "iopub.status.busy": "2024-11-18T18:31:45.531721Z",
          "iopub.execute_input": "2024-11-18T18:31:45.532063Z",
          "iopub.status.idle": "2024-11-18T18:31:45.549359Z",
          "shell.execute_reply.started": "2024-11-18T18:31:45.532028Z",
          "shell.execute_reply": "2024-11-18T18:31:45.548565Z"
        },
        "trusted": true,
        "id": "-fZw6MhHO_3T"
      },
      "execution_count": null,
      "outputs": []
    },
    {
      "cell_type": "code",
      "source": [
        "# Architecture for training\n",
        "\n",
        "# Convolutional block with BatchNormalization\n",
        "def ConvBlock(in_channels, out_channels, pool=False):\n",
        "    layers = [nn.Conv2d(in_channels, out_channels, kernel_size=3, padding=1),\n",
        "              nn.BatchNorm2d(out_channels),\n",
        "              nn.ReLU(inplace=True)]\n",
        "    if pool:\n",
        "        layers.append(nn.MaxPool2d(4))\n",
        "    return nn.Sequential(*layers)\n",
        "\n",
        "\n",
        "class ResNet14(ImageClassificationBase):\n",
        "    def __init__(self, in_channels, num_diseases):\n",
        "        super().__init__()\n",
        "\n",
        "        # Initial convolutional layers\n",
        "        self.conv1 = ConvBlock(in_channels, 64)                # Output: 64 x H x W\n",
        "        self.conv2 = ConvBlock(64, 128, pool=True)             # Output: 128 x H/4 x W/4\n",
        "\n",
        "        # Residual block 1\n",
        "        self.res1 = nn.Sequential(\n",
        "            ConvBlock(128, 128),\n",
        "            ConvBlock(128, 128)\n",
        "        )\n",
        "\n",
        "        # Additional convolutional layers\n",
        "        self.conv3 = ConvBlock(128, 256, pool=True)            # Output: 256 x H/16 x W/16\n",
        "        self.conv4 = ConvBlock(256, 512, pool=True)            # Output: 512 x H/64 x W/64\n",
        "\n",
        "        # Residual block 2\n",
        "        self.res2 = nn.Sequential(\n",
        "            ConvBlock(512, 512),\n",
        "            ConvBlock(512, 512)\n",
        "        )\n",
        "\n",
        "        # New convolutional layer for deeper structure\n",
        "        self.conv5 = ConvBlock(512, 1024, pool=True)           # Output: 1024 x H/256 x W/256\n",
        "\n",
        "        # Residual block 3\n",
        "        self.res3 = nn.Sequential(\n",
        "            ConvBlock(1024, 1024),\n",
        "            ConvBlock(1024, 1024)\n",
        "        )\n",
        "\n",
        "        # Updated Classifier with Global Average Pooling\n",
        "        self.classifier = nn.Sequential(\n",
        "            nn.AdaptiveAvgPool2d((1, 1)),                      # Global pooling to 1x1 spatial dimensions\n",
        "            nn.Flatten(),                                      # Flatten features\n",
        "            nn.Linear(1024, num_diseases)                      # Fully connected layer\n",
        "        )\n",
        "\n",
        "    def forward(self, xb):\n",
        "        out = self.conv1(xb)                                   # Conv1\n",
        "        out = self.conv2(out)                                  # Conv2\n",
        "        out = self.res1(out) + out                             # Residual block 1\n",
        "        out = self.conv3(out)                                  # Conv3\n",
        "        out = self.conv4(out)                                  # Conv4\n",
        "        out = self.res2(out) + out                             # Residual block 2\n",
        "        out = self.conv5(out)                                  # Conv5\n",
        "        out = self.res3(out) + out                             # Residual block 3\n",
        "        out = self.classifier(out)                             # Classifier\n",
        "        return out\n"
      ],
      "metadata": {
        "execution": {
          "iopub.status.busy": "2024-11-18T18:31:45.550554Z",
          "iopub.execute_input": "2024-11-18T18:31:45.55093Z",
          "iopub.status.idle": "2024-11-18T18:31:45.568388Z",
          "shell.execute_reply.started": "2024-11-18T18:31:45.550887Z",
          "shell.execute_reply": "2024-11-18T18:31:45.567446Z"
        },
        "trusted": true,
        "id": "QGTVOhi6O_3T"
      },
      "execution_count": null,
      "outputs": []
    },
    {
      "cell_type": "code",
      "source": [
        "# defining the model and moving it to the GPU\n",
        "model = to_device(ResNet14(3, len(train.classes)), device)\n",
        "model"
      ],
      "metadata": {
        "execution": {
          "iopub.status.busy": "2024-11-18T18:31:45.569629Z",
          "iopub.execute_input": "2024-11-18T18:31:45.569972Z",
          "iopub.status.idle": "2024-11-18T18:31:45.871832Z",
          "shell.execute_reply.started": "2024-11-18T18:31:45.569943Z",
          "shell.execute_reply": "2024-11-18T18:31:45.871081Z"
        },
        "trusted": true,
        "id": "4FFkWv_kO_3T"
      },
      "execution_count": null,
      "outputs": []
    },
    {
      "cell_type": "code",
      "source": [
        "from torchsummary import summary\n",
        "\n",
        "# Define input shape (RGB images of size 256x256)\n",
        "INPUT_SHAPE = (3, 256, 256)\n",
        "\n",
        "# Print summary of the model\n",
        "print(summary(model.cuda(), INPUT_SHAPE))\n"
      ],
      "metadata": {
        "execution": {
          "iopub.status.busy": "2024-11-18T18:31:45.876328Z",
          "iopub.execute_input": "2024-11-18T18:31:45.876568Z",
          "iopub.status.idle": "2024-11-18T18:31:46.592969Z",
          "shell.execute_reply.started": "2024-11-18T18:31:45.876543Z",
          "shell.execute_reply": "2024-11-18T18:31:46.592213Z"
        },
        "trusted": true,
        "id": "tTelOmnjO_3T"
      },
      "execution_count": null,
      "outputs": []
    },
    {
      "cell_type": "code",
      "source": [
        "# Function to evaluate the model\n",
        "@torch.no_grad()\n",
        "def evaluate(model, val_loader):\n",
        "    model.eval()\n",
        "    outputs = [model.validation_step(batch) for batch in val_loader]\n",
        "    return model.validation_epoch_end(outputs)\n",
        "\n",
        "# Function to get learning rate\n",
        "def get_lr(optimizer):\n",
        "    for param_group in optimizer.param_groups:\n",
        "        return param_group['lr']\n",
        "\n",
        "# Function to train the model using the One Cycle LR Policy\n",
        "def fit_OneCycle(epochs, max_lr, model, train_loader, val_loader, weight_decay=0,\n",
        "                grad_clip=None, opt_func=torch.optim.SGD):\n",
        "    torch.cuda.empty_cache()\n",
        "    history = []\n",
        "\n",
        "    optimizer = opt_func(model.parameters(), max_lr, weight_decay=weight_decay)\n",
        "    # Scheduler for one-cycle learning rate\n",
        "    sched = torch.optim.lr_scheduler.OneCycleLR(optimizer, max_lr, epochs=epochs, steps_per_epoch=len(train_loader))\n",
        "\n",
        "    for epoch in range(epochs):\n",
        "        # Training\n",
        "        model.train()\n",
        "        train_losses = []\n",
        "        train_accuracies = []  # Collect training accuracies\n",
        "        lrs = []\n",
        "\n",
        "        for batch in train_loader:\n",
        "            images, labels = batch\n",
        "            images, labels = images.to(device), labels.to(device)\n",
        "\n",
        "            # Forward pass and loss calculation\n",
        "            out = model(images)\n",
        "            loss = F.cross_entropy(out, labels)\n",
        "            train_losses.append(loss)\n",
        "\n",
        "            # Calculate accuracy\n",
        "            acc = accuracy(out, labels)\n",
        "            train_accuracies.append(acc)\n",
        "\n",
        "            # Backpropagation\n",
        "            loss.backward()\n",
        "\n",
        "            # Gradient clipping\n",
        "            if grad_clip:\n",
        "                nn.utils.clip_grad_value_(model.parameters(), grad_clip)\n",
        "\n",
        "            optimizer.step()\n",
        "            optimizer.zero_grad()\n",
        "\n",
        "            # Record learning rates\n",
        "            lrs.append(get_lr(optimizer))\n",
        "            sched.step()\n",
        "\n",
        "        # Validation\n",
        "        result = evaluate(model, val_loader)\n",
        "        result['train_loss'] = torch.stack(train_losses).mean().item()\n",
        "        result['train_accuracy'] = torch.stack(train_accuracies).mean().item()  # Calculate mean training accuracy\n",
        "        result['lrs'] = lrs\n",
        "        model.epoch_end(epoch, result)\n",
        "        history.append(result)\n",
        "\n",
        "    return history\n",
        "\n"
      ],
      "metadata": {
        "execution": {
          "iopub.status.busy": "2024-11-18T18:31:46.594394Z",
          "iopub.execute_input": "2024-11-18T18:31:46.594631Z",
          "iopub.status.idle": "2024-11-18T18:31:46.606596Z",
          "shell.execute_reply.started": "2024-11-18T18:31:46.594607Z",
          "shell.execute_reply": "2024-11-18T18:31:46.605756Z"
        },
        "trusted": true,
        "id": "RX_wW8sFO_3T"
      },
      "execution_count": null,
      "outputs": []
    },
    {
      "cell_type": "code",
      "source": [
        "%%time\n",
        "history = [evaluate(model, valid_dl)]\n",
        "history"
      ],
      "metadata": {
        "execution": {
          "iopub.status.busy": "2024-11-18T18:31:46.607858Z",
          "iopub.execute_input": "2024-11-18T18:31:46.608178Z",
          "iopub.status.idle": "2024-11-18T18:32:56.60707Z",
          "shell.execute_reply.started": "2024-11-18T18:31:46.608154Z",
          "shell.execute_reply": "2024-11-18T18:32:56.606076Z"
        },
        "trusted": true,
        "id": "dDSp-d3VO_3T"
      },
      "execution_count": null,
      "outputs": []
    },
    {
      "cell_type": "code",
      "source": [
        "epochs = 10\n",
        "max_lr = 0.01\n",
        "grad_clip = 0.1\n",
        "weight_decay = 1e-4\n",
        "opt_func = torch.optim.Adam"
      ],
      "metadata": {
        "execution": {
          "iopub.status.busy": "2024-11-18T18:32:56.608405Z",
          "iopub.execute_input": "2024-11-18T18:32:56.608641Z",
          "iopub.status.idle": "2024-11-18T18:32:56.612645Z",
          "shell.execute_reply.started": "2024-11-18T18:32:56.608616Z",
          "shell.execute_reply": "2024-11-18T18:32:56.611884Z"
        },
        "trusted": true,
        "id": "v9U3FYI5O_3T"
      },
      "execution_count": null,
      "outputs": []
    },
    {
      "cell_type": "code",
      "source": [
        "%%time\n",
        "history += fit_OneCycle(epochs, max_lr, model, train_dl, valid_dl,\n",
        "                             grad_clip=grad_clip,\n",
        "                             weight_decay=1e-4,\n",
        "                             opt_func=opt_func)"
      ],
      "metadata": {
        "execution": {
          "iopub.status.busy": "2024-11-18T18:32:56.613703Z",
          "iopub.execute_input": "2024-11-18T18:32:56.613909Z",
          "iopub.status.idle": "2024-11-18T20:16:11.207543Z",
          "shell.execute_reply.started": "2024-11-18T18:32:56.613888Z",
          "shell.execute_reply": "2024-11-18T20:16:11.206669Z"
        },
        "trusted": true,
        "id": "zQS9ai6LO_3T"
      },
      "execution_count": null,
      "outputs": []
    },
    {
      "cell_type": "code",
      "source": [
        "def plot_accuracies(history):\n",
        "    accuracies = [x['val_accuracy'] for x in history]\n",
        "    plt.plot(accuracies, '-x')\n",
        "    plt.xlabel('epoch')\n",
        "    plt.ylabel('accuracy')\n",
        "    plt.title('Accuracy vs. No. of epochs');\n",
        "\n",
        "def plot_losses(history):\n",
        "    train_losses = [x.get('train_loss') for x in history]\n",
        "    val_losses = [x['val_loss'] for x in history]\n",
        "    plt.plot(train_losses, '-bx')\n",
        "    plt.plot(val_losses, '-rx')\n",
        "    plt.xlabel('epoch')\n",
        "    plt.ylabel('loss')\n",
        "    plt.legend(['Training', 'Validation'])\n",
        "    plt.title('Loss vs. No. of epochs');\n",
        "\n",
        "def plot_lrs(history):\n",
        "    lrs = np.concatenate([x.get('lrs', []) for x in history])\n",
        "    plt.plot(lrs)\n",
        "    plt.xlabel('Batch no.')\n",
        "    plt.ylabel('Learning rate')\n",
        "    plt.title('Learning Rate vs. Batch no.');"
      ],
      "metadata": {
        "execution": {
          "iopub.status.busy": "2024-11-18T20:16:11.209166Z",
          "iopub.execute_input": "2024-11-18T20:16:11.209435Z",
          "iopub.status.idle": "2024-11-18T20:16:11.217309Z",
          "shell.execute_reply.started": "2024-11-18T20:16:11.2094Z",
          "shell.execute_reply": "2024-11-18T20:16:11.21667Z"
        },
        "trusted": true,
        "id": "2by2E4eYO_3U"
      },
      "execution_count": null,
      "outputs": []
    },
    {
      "cell_type": "code",
      "source": [
        "plot_accuracies(history)"
      ],
      "metadata": {
        "execution": {
          "iopub.status.busy": "2024-11-18T20:16:11.218453Z",
          "iopub.execute_input": "2024-11-18T20:16:11.218729Z",
          "iopub.status.idle": "2024-11-18T20:16:11.345289Z",
          "shell.execute_reply.started": "2024-11-18T20:16:11.218703Z",
          "shell.execute_reply": "2024-11-18T20:16:11.344352Z"
        },
        "trusted": true,
        "id": "Y2tfIYoVO_3U"
      },
      "execution_count": null,
      "outputs": []
    },
    {
      "cell_type": "code",
      "source": [
        "plot_losses(history)"
      ],
      "metadata": {
        "execution": {
          "iopub.status.busy": "2024-11-18T20:16:11.346442Z",
          "iopub.execute_input": "2024-11-18T20:16:11.346685Z",
          "iopub.status.idle": "2024-11-18T20:16:11.488475Z",
          "shell.execute_reply.started": "2024-11-18T20:16:11.346661Z",
          "shell.execute_reply": "2024-11-18T20:16:11.487644Z"
        },
        "trusted": true,
        "id": "kCQbt8IgO_3U"
      },
      "execution_count": null,
      "outputs": []
    },
    {
      "cell_type": "code",
      "source": [
        "def plot_metrics(history):\n",
        "    # Extract metrics from history\n",
        "    train_losses = [x.get('train_loss') for x in history]\n",
        "    val_losses = [x.get('val_loss') for x in history]\n",
        "    train_accuracies = [x.get('train_accuracy') for x in history]\n",
        "    val_accuracies = [x.get('val_accuracy') for x in history]\n",
        "\n",
        "    # Plot Loss curves\n",
        "    plt.figure(figsize=(12, 5))\n",
        "    plt.subplot(1, 2, 1)\n",
        "    plt.plot(train_losses, '-bx', label='Training Loss')\n",
        "    plt.plot(val_losses, '-rx', label='Validation Loss')\n",
        "    plt.xlabel('Epochs')\n",
        "    plt.ylabel('Loss')\n",
        "    plt.legend()\n",
        "    plt.title('Loss vs. Epochs')\n",
        "\n",
        "    # Plot Accuracy curves\n",
        "    plt.subplot(1, 2, 2)\n",
        "    plt.plot(train_accuracies, '-bx', label='Training Accuracy')\n",
        "    plt.plot(val_accuracies, '-rx', label='Validation Accuracy')\n",
        "    plt.xlabel('Epochs')\n",
        "    plt.ylabel('Accuracy')\n",
        "    plt.legend()\n",
        "    plt.title('Accuracy vs. Epochs')\n",
        "\n",
        "    plt.tight_layout()\n",
        "    plt.show()\n"
      ],
      "metadata": {
        "execution": {
          "iopub.status.busy": "2024-11-18T20:57:59.322886Z",
          "iopub.execute_input": "2024-11-18T20:57:59.323248Z",
          "iopub.status.idle": "2024-11-18T20:57:59.331833Z",
          "shell.execute_reply.started": "2024-11-18T20:57:59.323216Z",
          "shell.execute_reply": "2024-11-18T20:57:59.330922Z"
        },
        "trusted": true,
        "id": "vw0MNwW3O_3X"
      },
      "execution_count": null,
      "outputs": []
    },
    {
      "cell_type": "code",
      "source": [
        "plot_metrics(history)\n"
      ],
      "metadata": {
        "execution": {
          "iopub.status.busy": "2024-11-18T20:58:09.513834Z",
          "iopub.execute_input": "2024-11-18T20:58:09.514161Z",
          "iopub.status.idle": "2024-11-18T20:58:09.869999Z",
          "shell.execute_reply.started": "2024-11-18T20:58:09.514129Z",
          "shell.execute_reply": "2024-11-18T20:58:09.86909Z"
        },
        "trusted": true,
        "id": "kTN2vApIO_3X"
      },
      "execution_count": null,
      "outputs": []
    },
    {
      "cell_type": "markdown",
      "source": [
        "## Learning Rate overtime"
      ],
      "metadata": {
        "id": "KuBvz1AQO_3X"
      }
    },
    {
      "cell_type": "code",
      "source": [
        "plot_lrs(history)"
      ],
      "metadata": {
        "execution": {
          "iopub.status.busy": "2024-11-18T20:16:11.489588Z",
          "iopub.execute_input": "2024-11-18T20:16:11.489926Z",
          "iopub.status.idle": "2024-11-18T20:16:11.601314Z",
          "shell.execute_reply.started": "2024-11-18T20:16:11.489886Z",
          "shell.execute_reply": "2024-11-18T20:16:11.600525Z"
        },
        "trusted": true,
        "id": "qcJt8DajO_3Y"
      },
      "execution_count": null,
      "outputs": []
    },
    {
      "cell_type": "code",
      "source": [
        "test_dir = \"../input/new-plant-diseases-dataset/test\"\n",
        "test = ImageFolder(test_dir, transform=transforms.ToTensor())"
      ],
      "metadata": {
        "execution": {
          "iopub.status.busy": "2024-11-18T20:16:11.602366Z",
          "iopub.execute_input": "2024-11-18T20:16:11.602581Z",
          "iopub.status.idle": "2024-11-18T20:16:11.690734Z",
          "shell.execute_reply.started": "2024-11-18T20:16:11.60256Z",
          "shell.execute_reply": "2024-11-18T20:16:11.690173Z"
        },
        "trusted": true,
        "id": "gVk07uw4O_3Y"
      },
      "execution_count": null,
      "outputs": []
    },
    {
      "cell_type": "code",
      "source": [
        "test_images = sorted(os.listdir(test_dir + '/test')) # since images in test folder are in alphabetical order\n",
        "test_images"
      ],
      "metadata": {
        "execution": {
          "iopub.status.busy": "2024-11-18T20:16:11.691768Z",
          "iopub.execute_input": "2024-11-18T20:16:11.692116Z",
          "iopub.status.idle": "2024-11-18T20:16:11.698233Z",
          "shell.execute_reply.started": "2024-11-18T20:16:11.692079Z",
          "shell.execute_reply": "2024-11-18T20:16:11.697452Z"
        },
        "trusted": true,
        "id": "1DD_C6bpO_3Y"
      },
      "execution_count": null,
      "outputs": []
    },
    {
      "cell_type": "code",
      "source": [
        "def predict_image(img, model):\n",
        "    \"\"\"Converts image to array and return the predicted class\n",
        "        with highest probability\"\"\"\n",
        "    # Convert to a batch of 1\n",
        "    xb = to_device(img.unsqueeze(0), device)\n",
        "    # Get predictions from model\n",
        "    yb = model(xb)\n",
        "    # Pick index with highest probability\n",
        "    _, preds  = torch.max(yb, dim=1)\n",
        "    # Retrieve the class label\n",
        "\n",
        "    return train.classes[preds[0].item()]"
      ],
      "metadata": {
        "execution": {
          "iopub.status.busy": "2024-11-18T20:16:11.699412Z",
          "iopub.execute_input": "2024-11-18T20:16:11.699742Z",
          "iopub.status.idle": "2024-11-18T20:16:11.705664Z",
          "shell.execute_reply.started": "2024-11-18T20:16:11.699708Z",
          "shell.execute_reply": "2024-11-18T20:16:11.704998Z"
        },
        "trusted": true,
        "id": "r3jDklqrO_3Y"
      },
      "execution_count": null,
      "outputs": []
    },
    {
      "cell_type": "code",
      "source": [
        "# predicting first image\n",
        "img, label = test[0]\n",
        "plt.imshow(img.permute(1, 2, 0))\n",
        "print('Label:', test_images[0], ', Predicted:', predict_image(img, model))"
      ],
      "metadata": {
        "execution": {
          "iopub.status.busy": "2024-11-18T20:16:11.706873Z",
          "iopub.execute_input": "2024-11-18T20:16:11.707222Z",
          "iopub.status.idle": "2024-11-18T20:16:11.861817Z",
          "shell.execute_reply.started": "2024-11-18T20:16:11.707188Z",
          "shell.execute_reply": "2024-11-18T20:16:11.861084Z"
        },
        "trusted": true,
        "id": "Y7GOWN5AO_3Y"
      },
      "execution_count": null,
      "outputs": []
    },
    {
      "cell_type": "code",
      "source": [
        "# getting all predictions (actual label vs predicted)\n",
        "for i, (img, label) in enumerate(test):\n",
        "    print('Label:', test_images[i], ', Predicted:', predict_image(img, model))"
      ],
      "metadata": {
        "execution": {
          "iopub.status.busy": "2024-11-18T20:16:11.862896Z",
          "iopub.execute_input": "2024-11-18T20:16:11.863177Z",
          "iopub.status.idle": "2024-11-18T20:16:12.412883Z",
          "shell.execute_reply.started": "2024-11-18T20:16:11.863144Z",
          "shell.execute_reply": "2024-11-18T20:16:12.412189Z"
        },
        "trusted": true,
        "id": "6wmpCADiO_3Y"
      },
      "execution_count": null,
      "outputs": []
    }
  ]
}